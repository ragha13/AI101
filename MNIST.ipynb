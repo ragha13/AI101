{
  "nbformat": 4,
  "nbformat_minor": 0,
  "metadata": {
    "colab": {
      "provenance": [],
      "gpuType": "T4"
    },
    "kernelspec": {
      "name": "python3",
      "display_name": "Python 3"
    },
    "language_info": {
      "name": "python"
    },
    "accelerator": "GPU"
  },
  "cells": [
    {
      "cell_type": "code",
      "source": [
        "import torch\n",
        "import torch.nn as nn\n",
        "import torch.optim as optim\n",
        "import torchvision\n",
        "import torchvision.transforms as transforms\n",
        "from torch.utils.data import DataLoader\n",
        "import time\n",
        "import matplotlib.pyplot as plt"
      ],
      "metadata": {
        "id": "IRF6RCm428N4"
      },
      "execution_count": 18,
      "outputs": []
    },
    {
      "cell_type": "code",
      "source": [
        "device = torch.device('cuda' if torch.cuda.is_available() else 'cpu')\n",
        "print(f\"Using Device : {device}\")"
      ],
      "metadata": {
        "colab": {
          "base_uri": "https://localhost:8080/"
        },
        "id": "XAZlpSY24Pk6",
        "outputId": "d4b35b3a-fad1-47f3-e74b-45054be17736"
      },
      "execution_count": 19,
      "outputs": [
        {
          "output_type": "stream",
          "name": "stdout",
          "text": [
            "Using Device : cuda\n"
          ]
        }
      ]
    },
    {
      "cell_type": "code",
      "source": [
        "transform=transforms.Compose([\n",
        "    transforms.ToTensor(),\n",
        "                              transforms.Normalize((0.1307,),(0.3081,))])\n",
        "#mean and std deviation"
      ],
      "metadata": {
        "id": "oAqF6L_84f6Z"
      },
      "execution_count": 20,
      "outputs": []
    },
    {
      "cell_type": "code",
      "source": [
        "train_dataset=torchvision.datasets.MNIST(root='./data',train=True,download=True,transform=transform)\n",
        "test_dataset=torchvision.datasets.MNIST(root='./data',train=False,download=True,transform=transform)\n"
      ],
      "metadata": {
        "id": "xoZVK0Bj5H_U"
      },
      "execution_count": 21,
      "outputs": []
    },
    {
      "cell_type": "code",
      "source": [
        "len(train_dataset)"
      ],
      "metadata": {
        "colab": {
          "base_uri": "https://localhost:8080/"
        },
        "id": "2W9SwYa75von",
        "outputId": "b0570cd4-6f06-45d2-b1d0-07faca271d2b"
      },
      "execution_count": 22,
      "outputs": [
        {
          "output_type": "execute_result",
          "data": {
            "text/plain": [
              "60000"
            ]
          },
          "metadata": {},
          "execution_count": 22
        }
      ]
    },
    {
      "cell_type": "code",
      "source": [
        "train_loader = DataLoader(train_dataset, batch_size=64, shuffle=True)\n",
        "test_loader = DataLoader(test_dataset, batch_size=64, shuffle=False)\n",
        "#Data loading"
      ],
      "metadata": {
        "id": "xq0n5WQL56Ly"
      },
      "execution_count": 23,
      "outputs": []
    },
    {
      "cell_type": "code",
      "source": [
        "fig, axes = plt.subplots(1, 10, figsize=(15, 2))  # Create a grid of 1 row, 10 columns\n",
        "for i in range(10):\n",
        "    image, label = train_dataset[i]  # Extract the image and label\n",
        "    axes[i].imshow(image.squeeze(), cmap='gray')  # Display the image\n",
        "    axes[i].set_title(f'Class: {label}')  # Add the label as a title\n",
        "    axes[i].axis('off')  # Turn off the axes\n",
        "\n",
        "plt.show()  # Show all subplots in a single figure\n"
      ],
      "metadata": {
        "colab": {
          "base_uri": "https://localhost:8080/",
          "height": 92
        },
        "id": "TDxmimTu6iz3",
        "outputId": "e116fa9b-4b26-437a-83bf-a67d387e2dfd"
      },
      "execution_count": 24,
      "outputs": [
        {
          "output_type": "display_data",
          "data": {
            "text/plain": [
              "<Figure size 1500x200 with 10 Axes>"
            ],
            "image/png": "[encoded data removed]"
          },
          "metadata": {}
        }
      ]
    },
    {
      "cell_type": "code",
      "source": [
        "class MNISTModel(nn.Module):\n",
        "    def __init__(self):\n",
        "        super(MNISTModel, self).__init__()\n",
        "        self.conv1 = nn.Conv2d(1, 32, kernel_size=3, padding=1)\n",
        "        self.bn1 = nn.BatchNorm2d(32)\n",
        "        self.conv2 = nn.Conv2d(32, 64, kernel_size=3, padding=1)\n",
        "        self.bn2 = nn.BatchNorm2d(64)\n",
        "        self.dropout = nn.Dropout(0.5)  # Dropout layer with 50% probability\n",
        "        self.fc1 = nn.Linear(64 * 7 * 7, 128)  # Adjust based on input size after convolutions\n",
        "        self.fc2 = nn.Linear(128, 10)\n",
        "\n",
        "    def forward(self, x):\n",
        "        x = nn.ReLU()(self.bn1(self.conv1(x)))\n",
        "        x = nn.MaxPool2d(2)(x)  # Downsample\n",
        "        x = nn.ReLU()(self.bn2(self.conv2(x)))\n",
        "        x = nn.MaxPool2d(2)(x)  # Downsample\n",
        "        x = x.view(x.size(0), -1)  # Flatten\n",
        "        x = self.dropout(x)  # Apply dropout before fully connected layers\n",
        "        x = nn.ReLU()(self.fc1(x))\n",
        "        x = self.fc2(x)\n",
        "        return x\n",
        "\n",
        "\n",
        ""
      ],
      "metadata": {
        "id": "mb4cEMvZUTMI"
      },
      "execution_count": 25,
      "outputs": []
    },
    {
      "cell_type": "code",
      "source": [
        "start_time = time.time()\n",
        "\n",
        "model = CNN_example().to(device)\n",
        "criterion = nn.CrossEntropyLoss()\n",
        "optimizer = optim.Adam(model.parameters(), lr=0.001)\n",
        "\n",
        "\n",
        "for epoch in range(10):\n",
        "    model.train()\n",
        "    running_loss = 0.0\n",
        "\n",
        "    for i, (images, labels) in enumerate(train_loader):  # Corrected 'enumarate' to 'enumerate'\n",
        "        images, labels = images.to(device), labels.to(device)\n",
        "\n",
        "        optimizer.zero_grad()\n",
        "        outputs = model(images)  # Removed redundant 'output = model(images)'\n",
        "        loss = criterion(outputs, labels)\n",
        "        loss.backward()\n",
        "        optimizer.step()\n",
        "\n",
        "        running_loss += loss.item()\n",
        "\n",
        "        if (i + 1) % 100 == 0:\n",
        "            print(f'Epoch [{epoch + 1}/{10}], Step [{i + 1}/{len(train_loader)}], Loss: {running_loss / 100:.4f}')\n",
        "            running_loss = 0.0\n",
        "\n",
        "end_time = time.time()\n",
        "execution_time = end_time - start_time\n",
        "print(f\"Time taken: {execution_time:.4f} seconds\")\n"
      ],
      "metadata": {
        "colab": {
          "base_uri": "https://localhost:8080/"
        },
        "collapsed": true,
        "id": "IwyjN7n-U11x",
        "outputId": "aee25b99-0ddb-41ea-e461-921e121cbe3d"
      },
      "execution_count": 29,
      "outputs": [
        {
          "output_type": "stream",
          "name": "stdout",
          "text": [
            "Epoch [1/10], Step [100/938], Loss: 0.5482\n",
            "Epoch [1/10], Step [200/938], Loss: 0.1599\n",
            "Epoch [1/10], Step [300/938], Loss: 0.1065\n",
            "Epoch [1/10], Step [400/938], Loss: 0.0915\n",
            "Epoch [1/10], Step [500/938], Loss: 0.0833\n",
            "Epoch [1/10], Step [600/938], Loss: 0.0650\n",
            "Epoch [1/10], Step [700/938], Loss: 0.0813\n",
            "Epoch [1/10], Step [800/938], Loss: 0.0654\n",
            "Epoch [1/10], Step [900/938], Loss: 0.0526\n",
            "Epoch [2/10], Step [100/938], Loss: 0.0478\n",
            "Epoch [2/10], Step [200/938], Loss: 0.0451\n",
            "Epoch [2/10], Step [300/938], Loss: 0.0464\n",
            "Epoch [2/10], Step [400/938], Loss: 0.0492\n",
            "Epoch [2/10], Step [500/938], Loss: 0.0489\n",
            "Epoch [2/10], Step [600/938], Loss: 0.0489\n",
            "Epoch [2/10], Step [700/938], Loss: 0.0401\n",
            "Epoch [2/10], Step [800/938], Loss: 0.0440\n",
            "Epoch [2/10], Step [900/938], Loss: 0.0452\n",
            "Epoch [3/10], Step [100/938], Loss: 0.0374\n",
            "Epoch [3/10], Step [200/938], Loss: 0.0304\n",
            "Epoch [3/10], Step [300/938], Loss: 0.0386\n",
            "Epoch [3/10], Step [400/938], Loss: 0.0374\n",
            "Epoch [3/10], Step [500/938], Loss: 0.0327\n",
            "Epoch [3/10], Step [600/938], Loss: 0.0297\n",
            "Epoch [3/10], Step [700/938], Loss: 0.0295\n",
            "Epoch [3/10], Step [800/938], Loss: 0.0342\n",
            "Epoch [3/10], Step [900/938], Loss: 0.0279\n",
            "Epoch [4/10], Step [100/938], Loss: 0.0253\n",
            "Epoch [4/10], Step [200/938], Loss: 0.0214\n",
            "Epoch [4/10], Step [300/938], Loss: 0.0273\n",
            "Epoch [4/10], Step [400/938], Loss: 0.0310\n",
            "Epoch [4/10], Step [500/938], Loss: 0.0223\n",
            "Epoch [4/10], Step [600/938], Loss: 0.0199\n",
            "Epoch [4/10], Step [700/938], Loss: 0.0288\n",
            "Epoch [4/10], Step [800/938], Loss: 0.0244\n",
            "Epoch [4/10], Step [900/938], Loss: 0.0314\n",
            "Epoch [5/10], Step [100/938], Loss: 0.0145\n",
            "Epoch [5/10], Step [200/938], Loss: 0.0162\n",
            "Epoch [5/10], Step [300/938], Loss: 0.0117\n",
            "Epoch [5/10], Step [400/938], Loss: 0.0181\n",
            "Epoch [5/10], Step [500/938], Loss: 0.0244\n",
            "Epoch [5/10], Step [600/938], Loss: 0.0226\n",
            "Epoch [5/10], Step [700/938], Loss: 0.0228\n",
            "Epoch [5/10], Step [800/938], Loss: 0.0222\n",
            "Epoch [5/10], Step [900/938], Loss: 0.0256\n",
            "Epoch [6/10], Step [100/938], Loss: 0.0124\n",
            "Epoch [6/10], Step [200/938], Loss: 0.0134\n",
            "Epoch [6/10], Step [300/938], Loss: 0.0135\n",
            "Epoch [6/10], Step [400/938], Loss: 0.0189\n",
            "Epoch [6/10], Step [500/938], Loss: 0.0160\n",
            "Epoch [6/10], Step [600/938], Loss: 0.0221\n",
            "Epoch [6/10], Step [700/938], Loss: 0.0114\n",
            "Epoch [6/10], Step [800/938], Loss: 0.0142\n",
            "Epoch [6/10], Step [900/938], Loss: 0.0183\n",
            "Epoch [7/10], Step [100/938], Loss: 0.0134\n",
            "Epoch [7/10], Step [200/938], Loss: 0.0100\n",
            "Epoch [7/10], Step [300/938], Loss: 0.0083\n",
            "Epoch [7/10], Step [400/938], Loss: 0.0126\n",
            "Epoch [7/10], Step [500/938], Loss: 0.0116\n",
            "Epoch [7/10], Step [600/938], Loss: 0.0134\n",
            "Epoch [7/10], Step [700/938], Loss: 0.0098\n",
            "Epoch [7/10], Step [800/938], Loss: 0.0086\n",
            "Epoch [7/10], Step [900/938], Loss: 0.0194\n",
            "Epoch [8/10], Step [100/938], Loss: 0.0080\n",
            "Epoch [8/10], Step [200/938], Loss: 0.0060\n",
            "Epoch [8/10], Step [300/938], Loss: 0.0138\n",
            "Epoch [8/10], Step [400/938], Loss: 0.0115\n",
            "Epoch [8/10], Step [500/938], Loss: 0.0116\n",
            "Epoch [8/10], Step [600/938], Loss: 0.0140\n",
            "Epoch [8/10], Step [700/938], Loss: 0.0100\n",
            "Epoch [8/10], Step [800/938], Loss: 0.0172\n",
            "Epoch [8/10], Step [900/938], Loss: 0.0142\n",
            "Epoch [9/10], Step [100/938], Loss: 0.0053\n",
            "Epoch [9/10], Step [200/938], Loss: 0.0069\n",
            "Epoch [9/10], Step [300/938], Loss: 0.0052\n",
            "Epoch [9/10], Step [400/938], Loss: 0.0076\n",
            "Epoch [9/10], Step [500/938], Loss: 0.0047\n",
            "Epoch [9/10], Step [600/938], Loss: 0.0071\n",
            "Epoch [9/10], Step [700/938], Loss: 0.0109\n",
            "Epoch [9/10], Step [800/938], Loss: 0.0096\n",
            "Epoch [9/10], Step [900/938], Loss: 0.0107\n",
            "Epoch [10/10], Step [100/938], Loss: 0.0065\n",
            "Epoch [10/10], Step [200/938], Loss: 0.0064\n",
            "Epoch [10/10], Step [300/938], Loss: 0.0056\n",
            "Epoch [10/10], Step [400/938], Loss: 0.0052\n",
            "Epoch [10/10], Step [500/938], Loss: 0.0044\n",
            "Epoch [10/10], Step [600/938], Loss: 0.0101\n",
            "Epoch [10/10], Step [700/938], Loss: 0.0107\n",
            "Epoch [10/10], Step [800/938], Loss: 0.0142\n",
            "Epoch [10/10], Step [900/938], Loss: 0.0097\n",
            "Time taken: 147.9945 seconds\n"
          ]
        }
      ]
    },
    {
      "cell_type": "code",
      "source": [
        "model.eval()\n",
        "correct=0\n",
        "total=0\n",
        "with torch.no_grad():\n",
        "    for images, labels in test_loader:\n",
        "      images, labels = images.to(device), labels.to(device)\n",
        "      outputs=model(images)\n",
        "      _,predicted=torch.max(outputs.data,1)\n",
        "      total+=labels.size(0)\n",
        "      correct+=(predicted==labels).sum().item()\n",
        "\n",
        "    print(f'Accuracy of the network on the test images: {100 * correct / total} %')"
      ],
      "metadata": {
        "colab": {
          "base_uri": "https://localhost:8080/"
        },
        "id": "zOq8S8LhZuZx",
        "outputId": "1c3e40a6-08ce-48cf-afb0-0d47a6f6480b"
      },
      "execution_count": 30,
      "outputs": [
        {
          "output_type": "stream",
          "name": "stdout",
          "text": [
            "Accuracy of the network on the test images: 99.11 %\n"
          ]
        }
      ]
    }
  ]
}